{
 "cells": [
  {
   "cell_type": "markdown",
   "metadata": {},
   "source": [
    "## **Importe das bibliotecas**"
   ]
  },
  {
   "cell_type": "code",
   "execution_count": 10,
   "metadata": {
    "collapsed": false
   },
   "outputs": [],
   "source": [
    "%matplotlib inline\n",
    "import numpy as np\n",
    "import pandas as pd\n",
    "import matplotlib.pylab as plt\n",
    "import seaborn as sns"
   ]
  },
  {
   "cell_type": "markdown",
   "metadata": {
    "collapsed": true
   },
   "source": [
    "# Análise dos Dados de Teste\n",
    "- Dos passos anteriores que realizamos para os dados do treino:\n",
    "    - Estudo das variáveis que influenciam no preço da casa via Coeficiente de Correlação\n",
    "    - Análise dos dados Faltantes (para seleção de atributos)\n",
    "    - Seleção de Atributos via Coeficiente de Correlação\n",
    "    - Detecção de Outliers\n",
    "- Para os dados de teste:\n",
    "    - é necessário remover os atributos que foram removidos do conjunto de treino"
   ]
  },
  {
   "cell_type": "code",
   "execution_count": 11,
   "metadata": {
    "collapsed": false
   },
   "outputs": [],
   "source": [
    "test = pd.read_csv('test_house_prices.csv')"
   ]
  },
  {
   "cell_type": "code",
   "execution_count": 12,
   "metadata": {
    "collapsed": false
   },
   "outputs": [
    {
     "name": "stdout",
     "output_type": "stream",
     "text": [
      "(1459, 80)\n",
      "(1459, 61)\n",
      "(1459, 56)\n"
     ]
    }
   ],
   "source": [
    "print(test.shape)\n",
    "data_test = pd.DataFrame(test)\n",
    "\n",
    "low_corr_coeff = [ 'Id' , 'MSSubClass' , 'OverallCond' , 'BsmtFinSF2' ,\n",
    "'LowQualFinSF' , 'BsmtHalfBath' , 'BedroomAbvGr' , 'KitchenAbvGr' ,\n",
    "'EnclosedPorch' , '3SsnPorch' , 'ScreenPorch' , 'PoolArea' , 'MiscVal' ,\n",
    "                  'MoSold' , 'YrSold' , 'BsmtUnfSF' , 'LotArea' , \n",
    "                  'HalfBath' , 'BsmtFullBath']\n",
    "test = test.drop(test[low_corr_coeff], axis = 1)\n",
    "print(test.shape)\n",
    "\n",
    "null_columns = [ 'PoolQC', 'MiscFeature', 'Alley', 'Fence', 'FireplaceQu']\n",
    "test = test.drop(test[null_columns], axis = 1)\n",
    "print(test.shape)"
   ]
  },
  {
   "cell_type": "markdown",
   "metadata": {},
   "source": [
    "- Para treino e teste:\n",
    "    - Primeiro, transformar os atributos numéricos com alto desvio: log (valor do atributo + 1) - isso tornará a distribuição dos valores mais perto da distribuição normal\n",
    "    - Criar variáveis Dummy para os atributos categóricos\n",
    "    - Substitua os valores numéricos faltantes (NaN's) pela média de suas respectivas colunas"
   ]
  },
  {
   "cell_type": "code",
   "execution_count": 13,
   "metadata": {
    "collapsed": false
   },
   "outputs": [
    {
     "name": "stdout",
     "output_type": "stream",
     "text": [
      "no stored variable #utiliza a variavel train que vem do notebook 2\n"
     ]
    },
    {
     "data": {
      "text/plain": [
       "(2915, 56)"
      ]
     },
     "execution_count": 13,
     "metadata": {},
     "output_type": "execute_result"
    }
   ],
   "source": [
    "%store -r train #utiliza a variavel train que vem do notebook 2\n",
    "\n",
    "y= pd.DataFrame(train['SalePrice'])\n",
    "train = pd.DataFrame(train.drop('SalePrice', axis=1)) #axis=1 estamos removendo a coluna e não linha\n",
    "\n",
    "all_data = pd.concat([train,test])\n",
    "all_data.shape\n"
   ]
  },
  {
   "cell_type": "code",
   "execution_count": 14,
   "metadata": {
    "collapsed": false
   },
   "outputs": [
    {
     "data": {
      "text/html": [
       "<div>\n",
       "<table border=\"1\" class=\"dataframe\">\n",
       "  <thead>\n",
       "    <tr style=\"text-align: right;\">\n",
       "      <th></th>\n",
       "      <th>1stFlrSF</th>\n",
       "      <th>2ndFlrSF</th>\n",
       "      <th>BsmtFinSF1</th>\n",
       "      <th>Fireplaces</th>\n",
       "      <th>FullBath</th>\n",
       "      <th>GarageArea</th>\n",
       "      <th>GarageCars</th>\n",
       "      <th>GarageYrBlt</th>\n",
       "      <th>GrLivArea</th>\n",
       "      <th>LotFrontage</th>\n",
       "      <th>MasVnrArea</th>\n",
       "      <th>OpenPorchSF</th>\n",
       "      <th>OverallQual</th>\n",
       "      <th>TotRmsAbvGrd</th>\n",
       "      <th>TotalBsmtSF</th>\n",
       "      <th>WoodDeckSF</th>\n",
       "      <th>YearBuilt</th>\n",
       "      <th>YearRemodAdd</th>\n",
       "    </tr>\n",
       "  </thead>\n",
       "  <tbody>\n",
       "    <tr>\n",
       "      <th>count</th>\n",
       "      <td>2915.000000</td>\n",
       "      <td>2915.000000</td>\n",
       "      <td>2914.000000</td>\n",
       "      <td>2915.000000</td>\n",
       "      <td>2915.000000</td>\n",
       "      <td>2914.000000</td>\n",
       "      <td>2914.000000</td>\n",
       "      <td>2756.000000</td>\n",
       "      <td>2915.000000</td>\n",
       "      <td>2430.000000</td>\n",
       "      <td>2892.000000</td>\n",
       "      <td>2915.000000</td>\n",
       "      <td>2915.000000</td>\n",
       "      <td>2915.000000</td>\n",
       "      <td>2914.000000</td>\n",
       "      <td>2915.000000</td>\n",
       "      <td>2915.000000</td>\n",
       "      <td>2915.000000</td>\n",
       "    </tr>\n",
       "    <tr>\n",
       "      <th>mean</th>\n",
       "      <td>1157.229846</td>\n",
       "      <td>336.091938</td>\n",
       "      <td>438.919012</td>\n",
       "      <td>0.595883</td>\n",
       "      <td>1.567410</td>\n",
       "      <td>471.791352</td>\n",
       "      <td>1.764928</td>\n",
       "      <td>1978.082003</td>\n",
       "      <td>1498.022642</td>\n",
       "      <td>69.168724</td>\n",
       "      <td>101.646611</td>\n",
       "      <td>47.281647</td>\n",
       "      <td>6.086449</td>\n",
       "      <td>6.447341</td>\n",
       "      <td>1048.918325</td>\n",
       "      <td>93.543053</td>\n",
       "      <td>1971.278902</td>\n",
       "      <td>1984.242882</td>\n",
       "    </tr>\n",
       "    <tr>\n",
       "      <th>std</th>\n",
       "      <td>384.951811</td>\n",
       "      <td>428.176095</td>\n",
       "      <td>444.059991</td>\n",
       "      <td>0.644908</td>\n",
       "      <td>0.552496</td>\n",
       "      <td>213.392380</td>\n",
       "      <td>0.760322</td>\n",
       "      <td>25.573732</td>\n",
       "      <td>496.971712</td>\n",
       "      <td>22.788906</td>\n",
       "      <td>178.529425</td>\n",
       "      <td>67.131617</td>\n",
       "      <td>1.406209</td>\n",
       "      <td>1.564520</td>\n",
       "      <td>428.842825</td>\n",
       "      <td>126.402329</td>\n",
       "      <td>30.289148</td>\n",
       "      <td>20.893691</td>\n",
       "    </tr>\n",
       "    <tr>\n",
       "      <th>min</th>\n",
       "      <td>334.000000</td>\n",
       "      <td>0.000000</td>\n",
       "      <td>0.000000</td>\n",
       "      <td>0.000000</td>\n",
       "      <td>0.000000</td>\n",
       "      <td>0.000000</td>\n",
       "      <td>0.000000</td>\n",
       "      <td>1895.000000</td>\n",
       "      <td>334.000000</td>\n",
       "      <td>21.000000</td>\n",
       "      <td>0.000000</td>\n",
       "      <td>0.000000</td>\n",
       "      <td>1.000000</td>\n",
       "      <td>2.000000</td>\n",
       "      <td>0.000000</td>\n",
       "      <td>0.000000</td>\n",
       "      <td>1872.000000</td>\n",
       "      <td>1950.000000</td>\n",
       "    </tr>\n",
       "    <tr>\n",
       "      <th>25%</th>\n",
       "      <td>876.000000</td>\n",
       "      <td>0.000000</td>\n",
       "      <td>0.000000</td>\n",
       "      <td>0.000000</td>\n",
       "      <td>1.000000</td>\n",
       "      <td>320.000000</td>\n",
       "      <td>1.000000</td>\n",
       "      <td>1960.000000</td>\n",
       "      <td>1125.500000</td>\n",
       "      <td>59.000000</td>\n",
       "      <td>0.000000</td>\n",
       "      <td>0.000000</td>\n",
       "      <td>5.000000</td>\n",
       "      <td>5.000000</td>\n",
       "      <td>793.000000</td>\n",
       "      <td>0.000000</td>\n",
       "      <td>1953.000000</td>\n",
       "      <td>1965.000000</td>\n",
       "    </tr>\n",
       "    <tr>\n",
       "      <th>50%</th>\n",
       "      <td>1082.000000</td>\n",
       "      <td>0.000000</td>\n",
       "      <td>368.000000</td>\n",
       "      <td>1.000000</td>\n",
       "      <td>2.000000</td>\n",
       "      <td>479.500000</td>\n",
       "      <td>2.000000</td>\n",
       "      <td>1979.000000</td>\n",
       "      <td>1442.000000</td>\n",
       "      <td>68.000000</td>\n",
       "      <td>0.000000</td>\n",
       "      <td>26.000000</td>\n",
       "      <td>6.000000</td>\n",
       "      <td>6.000000</td>\n",
       "      <td>988.000000</td>\n",
       "      <td>0.000000</td>\n",
       "      <td>1973.000000</td>\n",
       "      <td>1993.000000</td>\n",
       "    </tr>\n",
       "    <tr>\n",
       "      <th>75%</th>\n",
       "      <td>1383.500000</td>\n",
       "      <td>704.000000</td>\n",
       "      <td>732.750000</td>\n",
       "      <td>1.000000</td>\n",
       "      <td>2.000000</td>\n",
       "      <td>576.000000</td>\n",
       "      <td>2.000000</td>\n",
       "      <td>2002.000000</td>\n",
       "      <td>1743.000000</td>\n",
       "      <td>80.000000</td>\n",
       "      <td>164.000000</td>\n",
       "      <td>70.000000</td>\n",
       "      <td>7.000000</td>\n",
       "      <td>7.000000</td>\n",
       "      <td>1301.500000</td>\n",
       "      <td>168.000000</td>\n",
       "      <td>2001.000000</td>\n",
       "      <td>2004.000000</td>\n",
       "    </tr>\n",
       "    <tr>\n",
       "      <th>max</th>\n",
       "      <td>5095.000000</td>\n",
       "      <td>2065.000000</td>\n",
       "      <td>4010.000000</td>\n",
       "      <td>4.000000</td>\n",
       "      <td>4.000000</td>\n",
       "      <td>1488.000000</td>\n",
       "      <td>5.000000</td>\n",
       "      <td>2207.000000</td>\n",
       "      <td>5095.000000</td>\n",
       "      <td>313.000000</td>\n",
       "      <td>1600.000000</td>\n",
       "      <td>742.000000</td>\n",
       "      <td>10.000000</td>\n",
       "      <td>15.000000</td>\n",
       "      <td>5095.000000</td>\n",
       "      <td>1424.000000</td>\n",
       "      <td>2010.000000</td>\n",
       "      <td>2010.000000</td>\n",
       "    </tr>\n",
       "  </tbody>\n",
       "</table>\n",
       "</div>"
      ],
      "text/plain": [
       "          1stFlrSF     2ndFlrSF   BsmtFinSF1   Fireplaces     FullBath  \\\n",
       "count  2915.000000  2915.000000  2914.000000  2915.000000  2915.000000   \n",
       "mean   1157.229846   336.091938   438.919012     0.595883     1.567410   \n",
       "std     384.951811   428.176095   444.059991     0.644908     0.552496   \n",
       "min     334.000000     0.000000     0.000000     0.000000     0.000000   \n",
       "25%     876.000000     0.000000     0.000000     0.000000     1.000000   \n",
       "50%    1082.000000     0.000000   368.000000     1.000000     2.000000   \n",
       "75%    1383.500000   704.000000   732.750000     1.000000     2.000000   \n",
       "max    5095.000000  2065.000000  4010.000000     4.000000     4.000000   \n",
       "\n",
       "        GarageArea   GarageCars  GarageYrBlt    GrLivArea  LotFrontage  \\\n",
       "count  2914.000000  2914.000000  2756.000000  2915.000000  2430.000000   \n",
       "mean    471.791352     1.764928  1978.082003  1498.022642    69.168724   \n",
       "std     213.392380     0.760322    25.573732   496.971712    22.788906   \n",
       "min       0.000000     0.000000  1895.000000   334.000000    21.000000   \n",
       "25%     320.000000     1.000000  1960.000000  1125.500000    59.000000   \n",
       "50%     479.500000     2.000000  1979.000000  1442.000000    68.000000   \n",
       "75%     576.000000     2.000000  2002.000000  1743.000000    80.000000   \n",
       "max    1488.000000     5.000000  2207.000000  5095.000000   313.000000   \n",
       "\n",
       "        MasVnrArea  OpenPorchSF  OverallQual  TotRmsAbvGrd  TotalBsmtSF  \\\n",
       "count  2892.000000  2915.000000  2915.000000   2915.000000  2914.000000   \n",
       "mean    101.646611    47.281647     6.086449      6.447341  1048.918325   \n",
       "std     178.529425    67.131617     1.406209      1.564520   428.842825   \n",
       "min       0.000000     0.000000     1.000000      2.000000     0.000000   \n",
       "25%       0.000000     0.000000     5.000000      5.000000   793.000000   \n",
       "50%       0.000000    26.000000     6.000000      6.000000   988.000000   \n",
       "75%     164.000000    70.000000     7.000000      7.000000  1301.500000   \n",
       "max    1600.000000   742.000000    10.000000     15.000000  5095.000000   \n",
       "\n",
       "        WoodDeckSF    YearBuilt  YearRemodAdd  \n",
       "count  2915.000000  2915.000000   2915.000000  \n",
       "mean     93.543053  1971.278902   1984.242882  \n",
       "std     126.402329    30.289148     20.893691  \n",
       "min       0.000000  1872.000000   1950.000000  \n",
       "25%       0.000000  1953.000000   1965.000000  \n",
       "50%       0.000000  1973.000000   1993.000000  \n",
       "75%     168.000000  2001.000000   2004.000000  \n",
       "max    1424.000000  2010.000000   2010.000000  "
      ]
     },
     "execution_count": 14,
     "metadata": {},
     "output_type": "execute_result"
    }
   ],
   "source": [
    "all_data.describe()"
   ]
  },
  {
   "cell_type": "code",
   "execution_count": 15,
   "metadata": {
    "collapsed": false
   },
   "outputs": [],
   "source": [
    "#log transform the target:\n",
    "y = np.log1p(y)"
   ]
  },
  {
   "cell_type": "code",
   "execution_count": 16,
   "metadata": {
    "collapsed": false
   },
   "outputs": [
    {
     "name": "stdout",
     "output_type": "stream",
     "text": [
      "Skew: 0.123044\n"
     ]
    },
    {
     "data": {
      "image/png": "[encoded data removed]",
      "text/plain": [
       "<matplotlib.figure.Figure at 0x11555da10>"
      ]
     },
     "metadata": {},
     "output_type": "display_data"
    }
   ],
   "source": [
    "sns.distplot(y);\n",
    "print(\"Skew: %f\" % y.skew())"
   ]
  },
  {
   "cell_type": "code",
   "execution_count": 17,
   "metadata": {
    "collapsed": false
   },
   "outputs": [],
   "source": [
    "#log transform skewed numeric features:\n",
    "numeric_feats = all_data.dtypes[all_data.dtypes != \"object\"].index\n",
    "\n",
    "from scipy.stats import skew\n",
    "skewed_feats = train[numeric_feats].apply(lambda x: skew(x.dropna())) #compute skewness\n",
    "skewed_feats = skewed_feats[skewed_feats > 0.75]\n",
    "skewed_feats = skewed_feats.index\n",
    "\n",
    "all_data[skewed_feats] = np.log1p(all_data[skewed_feats])"
   ]
  },
  {
   "cell_type": "code",
   "execution_count": 18,
   "metadata": {
    "collapsed": true
   },
   "outputs": [],
   "source": [
    "all_data = pd.get_dummies(all_data)"
   ]
  },
  {
   "cell_type": "code",
   "execution_count": 19,
   "metadata": {
    "collapsed": true
   },
   "outputs": [],
   "source": [
    "#filling NA's with the mean of the column:\n",
    "all_data = all_data.fillna(all_data.mean())"
   ]
  },
  {
   "cell_type": "code",
   "execution_count": 20,
   "metadata": {
    "collapsed": false
   },
   "outputs": [
    {
     "data": {
      "text/html": [
       "<div>\n",
       "<table border=\"1\" class=\"dataframe\">\n",
       "  <thead>\n",
       "    <tr style=\"text-align: right;\">\n",
       "      <th></th>\n",
       "      <th>1stFlrSF</th>\n",
       "      <th>2ndFlrSF</th>\n",
       "      <th>BsmtFinSF1</th>\n",
       "      <th>Fireplaces</th>\n",
       "      <th>FullBath</th>\n",
       "      <th>GarageArea</th>\n",
       "      <th>GarageCars</th>\n",
       "      <th>GarageYrBlt</th>\n",
       "      <th>GrLivArea</th>\n",
       "      <th>LotFrontage</th>\n",
       "      <th>...</th>\n",
       "      <th>SaleType_ConLD</th>\n",
       "      <th>SaleType_ConLI</th>\n",
       "      <th>SaleType_ConLw</th>\n",
       "      <th>SaleType_New</th>\n",
       "      <th>SaleType_Oth</th>\n",
       "      <th>SaleType_WD</th>\n",
       "      <th>Street_Grvl</th>\n",
       "      <th>Street_Pave</th>\n",
       "      <th>Utilities_AllPub</th>\n",
       "      <th>Utilities_NoSeWa</th>\n",
       "    </tr>\n",
       "  </thead>\n",
       "  <tbody>\n",
       "    <tr>\n",
       "      <th>count</th>\n",
       "      <td>2915.000000</td>\n",
       "      <td>2915.000000</td>\n",
       "      <td>2915.000000</td>\n",
       "      <td>2915.000000</td>\n",
       "      <td>2915.000000</td>\n",
       "      <td>2915.000000</td>\n",
       "      <td>2915.000000</td>\n",
       "      <td>2915.000000</td>\n",
       "      <td>2915.000000</td>\n",
       "      <td>2915.000000</td>\n",
       "      <td>...</td>\n",
       "      <td>2915.000000</td>\n",
       "      <td>2915.000000</td>\n",
       "      <td>2915.000000</td>\n",
       "      <td>2915.000000</td>\n",
       "      <td>2915.000000</td>\n",
       "      <td>2915.000000</td>\n",
       "      <td>2915.000000</td>\n",
       "      <td>2915.000000</td>\n",
       "      <td>2915.000000</td>\n",
       "      <td>2915.000000</td>\n",
       "    </tr>\n",
       "    <tr>\n",
       "      <th>mean</th>\n",
       "      <td>7.002984</td>\n",
       "      <td>2.828597</td>\n",
       "      <td>4.224168</td>\n",
       "      <td>0.595883</td>\n",
       "      <td>1.567410</td>\n",
       "      <td>471.791352</td>\n",
       "      <td>1.764928</td>\n",
       "      <td>1978.082003</td>\n",
       "      <td>7.260454</td>\n",
       "      <td>4.195092</td>\n",
       "      <td>...</td>\n",
       "      <td>0.008919</td>\n",
       "      <td>0.003087</td>\n",
       "      <td>0.002744</td>\n",
       "      <td>0.080961</td>\n",
       "      <td>0.002401</td>\n",
       "      <td>0.865866</td>\n",
       "      <td>0.004117</td>\n",
       "      <td>0.995883</td>\n",
       "      <td>0.998971</td>\n",
       "      <td>0.000343</td>\n",
       "    </tr>\n",
       "    <tr>\n",
       "      <th>std</th>\n",
       "      <td>0.320880</td>\n",
       "      <td>3.276520</td>\n",
       "      <td>2.979545</td>\n",
       "      <td>0.644908</td>\n",
       "      <td>0.552496</td>\n",
       "      <td>213.355762</td>\n",
       "      <td>0.760192</td>\n",
       "      <td>24.866241</td>\n",
       "      <td>0.323141</td>\n",
       "      <td>0.318906</td>\n",
       "      <td>...</td>\n",
       "      <td>0.094036</td>\n",
       "      <td>0.055489</td>\n",
       "      <td>0.052324</td>\n",
       "      <td>0.272821</td>\n",
       "      <td>0.048953</td>\n",
       "      <td>0.340854</td>\n",
       "      <td>0.064040</td>\n",
       "      <td>0.064040</td>\n",
       "      <td>0.032070</td>\n",
       "      <td>0.018522</td>\n",
       "    </tr>\n",
       "    <tr>\n",
       "      <th>min</th>\n",
       "      <td>5.814131</td>\n",
       "      <td>0.000000</td>\n",
       "      <td>0.000000</td>\n",
       "      <td>0.000000</td>\n",
       "      <td>0.000000</td>\n",
       "      <td>0.000000</td>\n",
       "      <td>0.000000</td>\n",
       "      <td>1895.000000</td>\n",
       "      <td>5.814131</td>\n",
       "      <td>3.091042</td>\n",
       "      <td>...</td>\n",
       "      <td>0.000000</td>\n",
       "      <td>0.000000</td>\n",
       "      <td>0.000000</td>\n",
       "      <td>0.000000</td>\n",
       "      <td>0.000000</td>\n",
       "      <td>0.000000</td>\n",
       "      <td>0.000000</td>\n",
       "      <td>0.000000</td>\n",
       "      <td>0.000000</td>\n",
       "      <td>0.000000</td>\n",
       "    </tr>\n",
       "    <tr>\n",
       "      <th>25%</th>\n",
       "      <td>6.776507</td>\n",
       "      <td>0.000000</td>\n",
       "      <td>0.000000</td>\n",
       "      <td>0.000000</td>\n",
       "      <td>1.000000</td>\n",
       "      <td>320.000000</td>\n",
       "      <td>1.000000</td>\n",
       "      <td>1961.000000</td>\n",
       "      <td>7.026871</td>\n",
       "      <td>4.110874</td>\n",
       "      <td>...</td>\n",
       "      <td>0.000000</td>\n",
       "      <td>0.000000</td>\n",
       "      <td>0.000000</td>\n",
       "      <td>0.000000</td>\n",
       "      <td>0.000000</td>\n",
       "      <td>1.000000</td>\n",
       "      <td>0.000000</td>\n",
       "      <td>1.000000</td>\n",
       "      <td>1.000000</td>\n",
       "      <td>0.000000</td>\n",
       "    </tr>\n",
       "    <tr>\n",
       "      <th>50%</th>\n",
       "      <td>6.987490</td>\n",
       "      <td>0.000000</td>\n",
       "      <td>5.910797</td>\n",
       "      <td>1.000000</td>\n",
       "      <td>2.000000</td>\n",
       "      <td>479.000000</td>\n",
       "      <td>2.000000</td>\n",
       "      <td>1978.082003</td>\n",
       "      <td>7.274480</td>\n",
       "      <td>4.195092</td>\n",
       "      <td>...</td>\n",
       "      <td>0.000000</td>\n",
       "      <td>0.000000</td>\n",
       "      <td>0.000000</td>\n",
       "      <td>0.000000</td>\n",
       "      <td>0.000000</td>\n",
       "      <td>1.000000</td>\n",
       "      <td>0.000000</td>\n",
       "      <td>1.000000</td>\n",
       "      <td>1.000000</td>\n",
       "      <td>0.000000</td>\n",
       "    </tr>\n",
       "    <tr>\n",
       "      <th>75%</th>\n",
       "      <td>7.233094</td>\n",
       "      <td>6.558198</td>\n",
       "      <td>6.597827</td>\n",
       "      <td>1.000000</td>\n",
       "      <td>2.000000</td>\n",
       "      <td>576.000000</td>\n",
       "      <td>2.000000</td>\n",
       "      <td>2001.000000</td>\n",
       "      <td>7.463937</td>\n",
       "      <td>4.369448</td>\n",
       "      <td>...</td>\n",
       "      <td>0.000000</td>\n",
       "      <td>0.000000</td>\n",
       "      <td>0.000000</td>\n",
       "      <td>0.000000</td>\n",
       "      <td>0.000000</td>\n",
       "      <td>1.000000</td>\n",
       "      <td>0.000000</td>\n",
       "      <td>1.000000</td>\n",
       "      <td>1.000000</td>\n",
       "      <td>0.000000</td>\n",
       "    </tr>\n",
       "    <tr>\n",
       "      <th>max</th>\n",
       "      <td>8.536211</td>\n",
       "      <td>7.633370</td>\n",
       "      <td>8.296796</td>\n",
       "      <td>4.000000</td>\n",
       "      <td>4.000000</td>\n",
       "      <td>1488.000000</td>\n",
       "      <td>5.000000</td>\n",
       "      <td>2207.000000</td>\n",
       "      <td>8.536211</td>\n",
       "      <td>5.749393</td>\n",
       "      <td>...</td>\n",
       "      <td>1.000000</td>\n",
       "      <td>1.000000</td>\n",
       "      <td>1.000000</td>\n",
       "      <td>1.000000</td>\n",
       "      <td>1.000000</td>\n",
       "      <td>1.000000</td>\n",
       "      <td>1.000000</td>\n",
       "      <td>1.000000</td>\n",
       "      <td>1.000000</td>\n",
       "      <td>1.000000</td>\n",
       "    </tr>\n",
       "  </tbody>\n",
       "</table>\n",
       "<p>8 rows × 251 columns</p>\n",
       "</div>"
      ],
      "text/plain": [
       "          1stFlrSF     2ndFlrSF   BsmtFinSF1   Fireplaces     FullBath  \\\n",
       "count  2915.000000  2915.000000  2915.000000  2915.000000  2915.000000   \n",
       "mean      7.002984     2.828597     4.224168     0.595883     1.567410   \n",
       "std       0.320880     3.276520     2.979545     0.644908     0.552496   \n",
       "min       5.814131     0.000000     0.000000     0.000000     0.000000   \n",
       "25%       6.776507     0.000000     0.000000     0.000000     1.000000   \n",
       "50%       6.987490     0.000000     5.910797     1.000000     2.000000   \n",
       "75%       7.233094     6.558198     6.597827     1.000000     2.000000   \n",
       "max       8.536211     7.633370     8.296796     4.000000     4.000000   \n",
       "\n",
       "        GarageArea   GarageCars  GarageYrBlt    GrLivArea  LotFrontage  \\\n",
       "count  2915.000000  2915.000000  2915.000000  2915.000000  2915.000000   \n",
       "mean    471.791352     1.764928  1978.082003     7.260454     4.195092   \n",
       "std     213.355762     0.760192    24.866241     0.323141     0.318906   \n",
       "min       0.000000     0.000000  1895.000000     5.814131     3.091042   \n",
       "25%     320.000000     1.000000  1961.000000     7.026871     4.110874   \n",
       "50%     479.000000     2.000000  1978.082003     7.274480     4.195092   \n",
       "75%     576.000000     2.000000  2001.000000     7.463937     4.369448   \n",
       "max    1488.000000     5.000000  2207.000000     8.536211     5.749393   \n",
       "\n",
       "             ...         SaleType_ConLD  SaleType_ConLI  SaleType_ConLw  \\\n",
       "count        ...            2915.000000     2915.000000     2915.000000   \n",
       "mean         ...               0.008919        0.003087        0.002744   \n",
       "std          ...               0.094036        0.055489        0.052324   \n",
       "min          ...               0.000000        0.000000        0.000000   \n",
       "25%          ...               0.000000        0.000000        0.000000   \n",
       "50%          ...               0.000000        0.000000        0.000000   \n",
       "75%          ...               0.000000        0.000000        0.000000   \n",
       "max          ...               1.000000        1.000000        1.000000   \n",
       "\n",
       "       SaleType_New  SaleType_Oth  SaleType_WD  Street_Grvl  Street_Pave  \\\n",
       "count   2915.000000   2915.000000  2915.000000  2915.000000  2915.000000   \n",
       "mean       0.080961      0.002401     0.865866     0.004117     0.995883   \n",
       "std        0.272821      0.048953     0.340854     0.064040     0.064040   \n",
       "min        0.000000      0.000000     0.000000     0.000000     0.000000   \n",
       "25%        0.000000      0.000000     1.000000     0.000000     1.000000   \n",
       "50%        0.000000      0.000000     1.000000     0.000000     1.000000   \n",
       "75%        0.000000      0.000000     1.000000     0.000000     1.000000   \n",
       "max        1.000000      1.000000     1.000000     1.000000     1.000000   \n",
       "\n",
       "       Utilities_AllPub  Utilities_NoSeWa  \n",
       "count       2915.000000       2915.000000  \n",
       "mean           0.998971          0.000343  \n",
       "std            0.032070          0.018522  \n",
       "min            0.000000          0.000000  \n",
       "25%            1.000000          0.000000  \n",
       "50%            1.000000          0.000000  \n",
       "75%            1.000000          0.000000  \n",
       "max            1.000000          1.000000  \n",
       "\n",
       "[8 rows x 251 columns]"
      ]
     },
     "execution_count": 20,
     "metadata": {},
     "output_type": "execute_result"
    }
   ],
   "source": [
    "all_data.describe()"
   ]
  },
  {
   "cell_type": "code",
   "execution_count": 21,
   "metadata": {
    "collapsed": false
   },
   "outputs": [
    {
     "data": {
      "image/png": "[encoded data removed]",
      "text/plain": [
       "<matplotlib.figure.Figure at 0x119f10f90>"
      ]
     },
     "metadata": {},
     "output_type": "display_data"
    }
   ],
   "source": [
    "sns.distplot(all_data['Street_Pave']);\n"
   ]
  },
  {
   "cell_type": "code",
   "execution_count": 22,
   "metadata": {
    "collapsed": true
   },
   "outputs": [],
   "source": [
    "#creating matrices for sklearn:\n",
    "X_train = all_data[:train.shape[0]] #devolve as linhas de train\n",
    "X_test = all_data[train.shape[0]:] #devolve as linhas de teste"
   ]
  },
  {
   "cell_type": "markdown",
   "metadata": {},
   "source": [
    "### Caso queira realizar a submissão na ferramenta Kaggle: utilizar X_test -- Voltaremos em breve..."
   ]
  },
  {
   "cell_type": "markdown",
   "metadata": {},
   "source": [
    "# Uso de Regressão Linear para criação do modelo"
   ]
  },
  {
   "cell_type": "code",
   "execution_count": 28,
   "metadata": {
    "collapsed": true
   },
   "outputs": [],
   "source": [
    "from sklearn import linear_model\n",
    "from sklearn.metrics import mean_squared_error, r2_score, mean_absolute_error"
   ]
  },
  {
   "cell_type": "code",
   "execution_count": 29,
   "metadata": {
    "collapsed": true
   },
   "outputs": [],
   "source": [
    "regr = linear_model.LinearRegression()"
   ]
  },
  {
   "cell_type": "code",
   "execution_count": 31,
   "metadata": {
    "collapsed": false
   },
   "outputs": [
    {
     "name": "stdout",
     "output_type": "stream",
     "text": [
      "((1019, 251), (1019, 1), (437, 251), (437, 1))\n"
     ]
    }
   ],
   "source": [
    "# 70% dos dados de treino para construir o modelo\n",
    "X_realdata_train = X_train[:1019] \n",
    "y_realdata_train = y[:1019]\n",
    "\n",
    "# 30% dos dados do treino para realizar um comparativo entre o valor real e o predito pelo modelo\n",
    "X_realdata_test = X_train[1019:]\n",
    "y_realdata_test = y[1019:]\n",
    "\n",
    "print(X_realdata_train.shape, y_realdata_train.shape, X_realdata_test.shape, y_realdata_test.shape)"
   ]
  },
  {
   "cell_type": "markdown",
   "metadata": {},
   "source": [
    "- Treinando o modelo com os 70% dos dados de treino\n"
   ]
  },
  {
   "cell_type": "code",
   "execution_count": 32,
   "metadata": {
    "collapsed": false
   },
   "outputs": [
    {
     "data": {
      "text/plain": [
       "LinearRegression(copy_X=True, fit_intercept=True, n_jobs=1, normalize=False)"
      ]
     },
     "execution_count": 32,
     "metadata": {},
     "output_type": "execute_result"
    }
   ],
   "source": [
    "regr.fit(X_realdata_train, y_realdata_train)"
   ]
  },
  {
   "cell_type": "markdown",
   "metadata": {},
   "source": [
    "- Renomeando a coluna de Y que foi predita pelo modelo"
   ]
  },
  {
   "cell_type": "code",
   "execution_count": 33,
   "metadata": {
    "collapsed": false
   },
   "outputs": [],
   "source": [
    "y_pred = pd.DataFrame(regr.predict(X_realdata_test))\n",
    "y_pred.columns = ['SalePrice']"
   ]
  },
  {
   "cell_type": "markdown",
   "metadata": {},
   "source": [
    "<img src=\"score.png\">"
   ]
  },
  {
   "cell_type": "markdown",
   "metadata": {},
   "source": [
    "### Principais métricas de avaliação de modelos de Regressão\n",
    "\n",
    "- O Mean Absolute Error (or MAE), isto é, o erro médio absoluto é a soma das diferenças absolutas entre o valor real e o valor predito. Esta métrica dá uma ideia de quão errado é a predição. \n",
    "\n",
    "- O Mean Squared Error (or MSE), isto é, o erro quadrático médio é semelhante ao MAE, provendo (a grosso modo) a magnitude do erro. \n",
    "\n",
    "- O R^2 (or R Squared) é uma métrica que oferece uma indicação de quão bom uma conjunto de predições se adequa ao valor real. "
   ]
  },
  {
   "cell_type": "code",
   "execution_count": 40,
   "metadata": {
    "collapsed": false
   },
   "outputs": [
    {
     "name": "stdout",
     "output_type": "stream",
     "text": [
      "Mean absolute error: 0.08864\n",
      "Mean squared error: 0.01557\n",
      "R squared: 0.88963\n"
     ]
    }
   ],
   "source": [
    "# Os coeficientes\n",
    "#print('Coefficients: \\n', regr.coef_)\n",
    "# Mean square error\n",
    "print(\"Mean absolute error: %.5f\"\n",
    "      % mean_absolute_error(y_pred, y_realdata_test))\n",
    "print(\"Mean squared error: %.5f\"\n",
    "      % mean_squared_error(y_pred, y_realdata_test))\n",
    "# Variance score ou quadrado do coeficiente de correlação\n",
    "print('R squared: %.5f' % r2_score(y_pred, y_realdata_test)) #quanto mais próximo de 1, melhor a predição"
   ]
  },
  {
   "cell_type": "markdown",
   "metadata": {},
   "source": [
    "### Comparativo entre os valores de Y real e os preditos pelo modelo"
   ]
  },
  {
   "cell_type": "code",
   "execution_count": 37,
   "metadata": {
    "collapsed": false
   },
   "outputs": [
    {
     "data": {
      "image/png": "[encoded data removed]",
      "text/plain": [
       "<matplotlib.figure.Figure at 0x119e81790>"
      ]
     },
     "metadata": {},
     "output_type": "display_data"
    }
   ],
   "source": [
    "import matplotlib.pyplot as plt\n",
    "\n",
    "fig, ax = plt.subplots()\n",
    "plt.scatter(y_realdata_test, y_pred,edgecolors=(0, 0, 0))\n",
    "ax.plot([y_realdata_test.min(), y_realdata_test.max()], [y_pred.min(), y_pred.max()], 'k--', lw=4)\n",
    "ax.set_xlabel('Dados Reais')\n",
    "ax.set_ylabel('Dados Preditos')\n",
    "plt.show()\n"
   ]
  },
  {
   "cell_type": "markdown",
   "metadata": {},
   "source": [
    "## Se desejar fazer a submissão deste modelo no kaggle"
   ]
  },
  {
   "cell_type": "code",
   "execution_count": 39,
   "metadata": {
    "collapsed": false
   },
   "outputs": [],
   "source": [
    "prediction = pd.DataFrame(regr.predict(X_test))\n",
    "submission = pd.DataFrame()\n",
    "submission['Id']= data_test.Id\n",
    "submission['SalePrice'] = prediction\n",
    "submission.to_csv(\"kaggle_house_price.csv\", index=False)"
   ]
  },
  {
   "cell_type": "code",
   "execution_count": null,
   "metadata": {
    "collapsed": true
   },
   "outputs": [],
   "source": []
  }
 ],
 "metadata": {
  "kernelspec": {
   "display_name": "Python 2",
   "language": "python",
   "name": "python2"
  },
  "language_info": {
   "codemirror_mode": {
    "name": "ipython",
    "version": 2
   },
   "file_extension": ".py",
   "mimetype": "text/x-python",
   "name": "python",
   "nbconvert_exporter": "python",
   "pygments_lexer": "ipython2",
   "version": "2.7.13"
  }
 },
 "nbformat": 4,
 "nbformat_minor": 2
}
